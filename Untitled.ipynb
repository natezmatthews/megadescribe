{
 "cells": [
  {
   "cell_type": "code",
   "execution_count": 51,
   "metadata": {},
   "outputs": [
    {
     "data": {
      "text/plain": [
       "<module 'megadescribe' from '/home/nmatthews/megadescribe/megadescribe.py'>"
      ]
     },
     "execution_count": 51,
     "metadata": {},
     "output_type": "execute_result"
    }
   ],
   "source": [
    "import pandas as pd\n",
    "import numpy as np\n",
    "from importlib import reload\n",
    "import megadescribe as md\n",
    "reload(md)"
   ]
  },
  {
   "cell_type": "code",
   "execution_count": 52,
   "metadata": {
    "collapsed": true
   },
   "outputs": [],
   "source": [
    "option_a = '/home/nmatthews/7242forSettingReview.csv'\n",
    "option_b = '/home/nmatthews/CADETpy3/Medicaid-GA/medicaid_ga_2016-11-22.csv'\n",
    "mydf = pd.read_csv(option_b)"
   ]
  },
  {
   "cell_type": "code",
   "execution_count": 53,
   "metadata": {},
   "outputs": [
    {
     "ename": "TypeError",
     "evalue": "",
     "output_type": "error",
     "traceback": [
      "\u001b[0;31m---------------------------------------------------------------------------\u001b[0m",
      "\u001b[0;31mTypeError\u001b[0m                                 Traceback (most recent call last)",
      "\u001b[0;32m<ipython-input-53-9861375cd106>\u001b[0m in \u001b[0;36m<module>\u001b[0;34m()\u001b[0m\n\u001b[0;32m----> 1\u001b[0;31m \u001b[0mmd\u001b[0m\u001b[0;34m.\u001b[0m\u001b[0mmegadescribe\u001b[0m\u001b[0;34m(\u001b[0m\u001b[0mmydf\u001b[0m\u001b[0;34m)\u001b[0m\u001b[0;34m\u001b[0m\u001b[0m\n\u001b[0m",
      "\u001b[0;32m~/megadescribe/megadescribe.py\u001b[0m in \u001b[0;36mmegadescribe\u001b[0;34m(df, n)\u001b[0m\n\u001b[1;32m    156\u001b[0m \u001b[0;32mdef\u001b[0m \u001b[0mmegadescribe\u001b[0m\u001b[0;34m(\u001b[0m\u001b[0mdf\u001b[0m\u001b[0;34m,\u001b[0m\u001b[0mn\u001b[0m\u001b[0;34m=\u001b[0m\u001b[0;36m5\u001b[0m\u001b[0;34m)\u001b[0m\u001b[0;34m:\u001b[0m\u001b[0;34m\u001b[0m\u001b[0m\n\u001b[1;32m    157\u001b[0m     \u001b[0;34m\"\"\"Quickly see many statistics and pivots of your data\"\"\"\u001b[0m\u001b[0;34m\u001b[0m\u001b[0m\n\u001b[0;32m--> 158\u001b[0;31m     \u001b[0mcolclass\u001b[0m \u001b[0;34m=\u001b[0m \u001b[0mColumnClassifier\u001b[0m\u001b[0;34m(\u001b[0m\u001b[0mdf\u001b[0m\u001b[0;34m)\u001b[0m\u001b[0;34m\u001b[0m\u001b[0m\n\u001b[0m\u001b[1;32m    159\u001b[0m \u001b[0;34m\u001b[0m\u001b[0m\n\u001b[1;32m    160\u001b[0m     \u001b[0;31m# Time to look at categorical variables\u001b[0m\u001b[0;34m\u001b[0m\u001b[0;34m\u001b[0m\u001b[0m\n",
      "\u001b[0;32m~/megadescribe/megadescribe.py\u001b[0m in \u001b[0;36m__init__\u001b[0;34m(self, df)\u001b[0m\n\u001b[1;32m      9\u001b[0m     \u001b[0;34m\"\"\"The rest of megadescribe will need good guesses about what's in each column of the dataframe\"\"\"\u001b[0m\u001b[0;34m\u001b[0m\u001b[0m\n\u001b[1;32m     10\u001b[0m     \u001b[0;32mdef\u001b[0m \u001b[0m__init__\u001b[0m\u001b[0;34m(\u001b[0m\u001b[0mself\u001b[0m\u001b[0;34m,\u001b[0m\u001b[0mdf\u001b[0m\u001b[0;34m)\u001b[0m\u001b[0;34m:\u001b[0m\u001b[0;34m\u001b[0m\u001b[0m\n\u001b[0;32m---> 11\u001b[0;31m         \u001b[0;32mraise\u001b[0m \u001b[0mTypeError\u001b[0m\u001b[0;34m\u001b[0m\u001b[0m\n\u001b[0m\u001b[1;32m     12\u001b[0m         \u001b[0;32mif\u001b[0m \u001b[0;32mnot\u001b[0m \u001b[0misinstance\u001b[0m\u001b[0;34m(\u001b[0m\u001b[0mdf\u001b[0m\u001b[0;34m,\u001b[0m\u001b[0mpd\u001b[0m\u001b[0;34m.\u001b[0m\u001b[0mDataFrame\u001b[0m\u001b[0;34m)\u001b[0m\u001b[0;34m:\u001b[0m\u001b[0;34m\u001b[0m\u001b[0m\n\u001b[1;32m     13\u001b[0m             \u001b[0;32mraise\u001b[0m \u001b[0mTypeError\u001b[0m\u001b[0;34m(\u001b[0m\u001b[0;34m\"Argument was not a pandas DataFrame\"\u001b[0m\u001b[0;34m)\u001b[0m\u001b[0;34m\u001b[0m\u001b[0m\n",
      "\u001b[0;31mTypeError\u001b[0m: "
     ]
    }
   ],
   "source": [
    "md.megadescribe(mydf)"
   ]
  },
  {
   "cell_type": "code",
   "execution_count": 65,
   "metadata": {},
   "outputs": [
    {
     "data": {
      "text/html": [
       "<div>\n",
       "<style>\n",
       "    .dataframe thead tr:only-child th {\n",
       "        text-align: right;\n",
       "    }\n",
       "\n",
       "    .dataframe thead th {\n",
       "        text-align: left;\n",
       "    }\n",
       "\n",
       "    .dataframe tbody tr th {\n",
       "        vertical-align: top;\n",
       "    }\n",
       "</style>\n",
       "<table border=\"1\" class=\"dataframe\">\n",
       "  <thead>\n",
       "    <tr style=\"text-align: right;\">\n",
       "      <th></th>\n",
       "      <th>date_a</th>\n",
       "    </tr>\n",
       "  </thead>\n",
       "  <tbody>\n",
       "    <tr>\n",
       "      <th>0</th>\n",
       "      <td>2015-10-30 01:34:51.017578</td>\n",
       "    </tr>\n",
       "    <tr>\n",
       "      <th>1</th>\n",
       "      <td>2016-04-03 04:54:24.936560</td>\n",
       "    </tr>\n",
       "    <tr>\n",
       "      <th>2</th>\n",
       "      <td>2015-12-24 15:03:01.817475</td>\n",
       "    </tr>\n",
       "    <tr>\n",
       "      <th>3</th>\n",
       "      <td>2017-05-22 12:20:03.849087</td>\n",
       "    </tr>\n",
       "    <tr>\n",
       "      <th>4</th>\n",
       "      <td>2015-09-05 07:45:57.272208</td>\n",
       "    </tr>\n",
       "  </tbody>\n",
       "</table>\n",
       "</div>"
      ],
      "text/plain": [
       "                      date_a\n",
       "0 2015-10-30 01:34:51.017578\n",
       "1 2016-04-03 04:54:24.936560\n",
       "2 2015-12-24 15:03:01.817475\n",
       "3 2017-05-22 12:20:03.849087\n",
       "4 2015-09-05 07:45:57.272208"
      ]
     },
     "metadata": {},
     "output_type": "display_data"
    }
   ],
   "source": [
    "testdf = pd.DataFrame()\n",
    "# from random import uniform\n",
    "testdf['date_a'] = pd.Series([dt.today() - td(x) for x in np.random.uniform(0,1000,5)])\n",
    "display(testdf)\n",
    "# from datetime import datetime as dt, timedelta as td\n",
    "# print(dt.today())\n",
    "# print(dt.today() - td(1.5))"
   ]
  },
  {
   "cell_type": "code",
   "execution_count": 99,
   "metadata": {},
   "outputs": [],
   "source": [
    "import megadescribe as md\n",
    "import numpy as np\n",
    "import random\n",
    "import string\n",
    "import pandas as pd\n",
    "from datetime import datetime as dt, timedelta as td\n",
    "import pytest\n",
    "\n",
    "def test_typeerror_at_initiation():\n",
    "    with pytest.raises(TypeError):\n",
    "        md.ColumnClassifier(0)\n",
    "\n",
    "def test_column_classifications():\n",
    "    df = pd.DataFrame()\n",
    "    def one_to_randint():\n",
    "        for x in range(random.randint(1,3)):\n",
    "            yield x+1\n",
    "    date_columns = ['date_'+str(x) for x in one_to_randint()]\n",
    "    for col in date_columns:\n",
    "        df[col] = pd.Series([dt.today() - td(x) for x in np.random.uniform(0,1000,10)])\n",
    "    \n",
    "    numeric_columns = ['numeric_'+str(x) for x in one_to_randint()]\n",
    "    for col in numeric_columns:\n",
    "        df[col] = pd.Series([x for x in np.random.uniform(0,1000,10)])\n",
    "    \n",
    "    categorical_columns = ['categorical_'+str(x) for x in one_to_randint()]\n",
    "    for col in categorical_columns:\n",
    "        df[col] = pd.Series(random.choices(string.ascii_lowercase,k=10))\n",
    "\n",
    "    display(df)"
   ]
  },
  {
   "cell_type": "code",
   "execution_count": 100,
   "metadata": {},
   "outputs": [
    {
     "data": {
      "text/html": [
       "<div>\n",
       "<style>\n",
       "    .dataframe thead tr:only-child th {\n",
       "        text-align: right;\n",
       "    }\n",
       "\n",
       "    .dataframe thead th {\n",
       "        text-align: left;\n",
       "    }\n",
       "\n",
       "    .dataframe tbody tr th {\n",
       "        vertical-align: top;\n",
       "    }\n",
       "</style>\n",
       "<table border=\"1\" class=\"dataframe\">\n",
       "  <thead>\n",
       "    <tr style=\"text-align: right;\">\n",
       "      <th></th>\n",
       "      <th>date_1</th>\n",
       "      <th>date_2</th>\n",
       "      <th>numeric_1</th>\n",
       "      <th>categorical_1</th>\n",
       "      <th>categorical_2</th>\n",
       "      <th>categorical_3</th>\n",
       "    </tr>\n",
       "  </thead>\n",
       "  <tbody>\n",
       "    <tr>\n",
       "      <th>0</th>\n",
       "      <td>2016-07-11 04:19:03.393288</td>\n",
       "      <td>2016-05-18 04:31:16.024003</td>\n",
       "      <td>44.444711</td>\n",
       "      <td>u</td>\n",
       "      <td>n</td>\n",
       "      <td>l</td>\n",
       "    </tr>\n",
       "    <tr>\n",
       "      <th>1</th>\n",
       "      <td>2016-06-08 16:44:57.528329</td>\n",
       "      <td>2016-01-08 21:18:07.198619</td>\n",
       "      <td>522.066055</td>\n",
       "      <td>v</td>\n",
       "      <td>k</td>\n",
       "      <td>t</td>\n",
       "    </tr>\n",
       "    <tr>\n",
       "      <th>2</th>\n",
       "      <td>2016-01-24 20:58:11.536254</td>\n",
       "      <td>2017-07-24 19:14:55.506106</td>\n",
       "      <td>54.034440</td>\n",
       "      <td>b</td>\n",
       "      <td>r</td>\n",
       "      <td>c</td>\n",
       "    </tr>\n",
       "    <tr>\n",
       "      <th>3</th>\n",
       "      <td>2015-11-28 04:35:57.432944</td>\n",
       "      <td>2015-12-28 12:06:31.028960</td>\n",
       "      <td>606.948793</td>\n",
       "      <td>n</td>\n",
       "      <td>g</td>\n",
       "      <td>q</td>\n",
       "    </tr>\n",
       "    <tr>\n",
       "      <th>4</th>\n",
       "      <td>2016-07-06 11:28:50.462673</td>\n",
       "      <td>2017-02-08 00:45:04.235667</td>\n",
       "      <td>764.775977</td>\n",
       "      <td>z</td>\n",
       "      <td>d</td>\n",
       "      <td>h</td>\n",
       "    </tr>\n",
       "    <tr>\n",
       "      <th>5</th>\n",
       "      <td>2016-10-13 18:19:03.439304</td>\n",
       "      <td>2016-05-26 07:54:28.395889</td>\n",
       "      <td>49.681191</td>\n",
       "      <td>p</td>\n",
       "      <td>n</td>\n",
       "      <td>p</td>\n",
       "    </tr>\n",
       "    <tr>\n",
       "      <th>6</th>\n",
       "      <td>2017-06-27 13:18:59.280510</td>\n",
       "      <td>2017-04-21 02:48:16.919971</td>\n",
       "      <td>571.514998</td>\n",
       "      <td>x</td>\n",
       "      <td>m</td>\n",
       "      <td>l</td>\n",
       "    </tr>\n",
       "    <tr>\n",
       "      <th>7</th>\n",
       "      <td>2016-01-22 09:34:22.447460</td>\n",
       "      <td>2016-02-25 19:16:03.880220</td>\n",
       "      <td>360.178918</td>\n",
       "      <td>x</td>\n",
       "      <td>k</td>\n",
       "      <td>z</td>\n",
       "    </tr>\n",
       "    <tr>\n",
       "      <th>8</th>\n",
       "      <td>2017-12-17 19:04:06.624542</td>\n",
       "      <td>2016-08-14 10:41:01.134372</td>\n",
       "      <td>555.235221</td>\n",
       "      <td>j</td>\n",
       "      <td>k</td>\n",
       "      <td>o</td>\n",
       "    </tr>\n",
       "    <tr>\n",
       "      <th>9</th>\n",
       "      <td>2017-02-05 14:59:36.526897</td>\n",
       "      <td>2016-12-14 19:39:41.735051</td>\n",
       "      <td>177.157855</td>\n",
       "      <td>y</td>\n",
       "      <td>n</td>\n",
       "      <td>j</td>\n",
       "    </tr>\n",
       "  </tbody>\n",
       "</table>\n",
       "</div>"
      ],
      "text/plain": [
       "                      date_1                     date_2   numeric_1  \\\n",
       "0 2016-07-11 04:19:03.393288 2016-05-18 04:31:16.024003   44.444711   \n",
       "1 2016-06-08 16:44:57.528329 2016-01-08 21:18:07.198619  522.066055   \n",
       "2 2016-01-24 20:58:11.536254 2017-07-24 19:14:55.506106   54.034440   \n",
       "3 2015-11-28 04:35:57.432944 2015-12-28 12:06:31.028960  606.948793   \n",
       "4 2016-07-06 11:28:50.462673 2017-02-08 00:45:04.235667  764.775977   \n",
       "5 2016-10-13 18:19:03.439304 2016-05-26 07:54:28.395889   49.681191   \n",
       "6 2017-06-27 13:18:59.280510 2017-04-21 02:48:16.919971  571.514998   \n",
       "7 2016-01-22 09:34:22.447460 2016-02-25 19:16:03.880220  360.178918   \n",
       "8 2017-12-17 19:04:06.624542 2016-08-14 10:41:01.134372  555.235221   \n",
       "9 2017-02-05 14:59:36.526897 2016-12-14 19:39:41.735051  177.157855   \n",
       "\n",
       "  categorical_1 categorical_2 categorical_3  \n",
       "0             u             n             l  \n",
       "1             v             k             t  \n",
       "2             b             r             c  \n",
       "3             n             g             q  \n",
       "4             z             d             h  \n",
       "5             p             n             p  \n",
       "6             x             m             l  \n",
       "7             x             k             z  \n",
       "8             j             k             o  \n",
       "9             y             n             j  "
      ]
     },
     "metadata": {},
     "output_type": "display_data"
    }
   ],
   "source": [
    "test_column_classifications()"
   ]
  },
  {
   "cell_type": "code",
   "execution_count": null,
   "metadata": {
    "collapsed": true
   },
   "outputs": [],
   "source": []
  }
 ],
 "metadata": {
  "kernelspec": {
   "display_name": "Python 3",
   "language": "python",
   "name": "python3"
  },
  "language_info": {
   "codemirror_mode": {
    "name": "ipython",
    "version": 3
   },
   "file_extension": ".py",
   "mimetype": "text/x-python",
   "name": "python",
   "nbconvert_exporter": "python",
   "pygments_lexer": "ipython3",
   "version": "3.6.3"
  }
 },
 "nbformat": 4,
 "nbformat_minor": 2
}
